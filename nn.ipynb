{
 "cells": [
  {
   "cell_type": "code",
   "execution_count": 709,
   "metadata": {},
   "outputs": [],
   "source": [
    "import pandas as pd\n",
    "import numpy as np\n",
    "import math"
   ]
  },
  {
   "cell_type": "code",
   "execution_count": 710,
   "metadata": {},
   "outputs": [],
   "source": [
    "traindf = pd.read_csv(\"train.csv\")\n",
    "traindf = traindf.drop([\"Ticket\", \"PassengerId\", \"Name\", \"Cabin\"], axis=1)\n",
    "traindf = traindf.fillna(0)\n",
    "traindf[\"Fare\"] /= 512.329\n",
    "traindf[\"Age\"] /= 80\n",
    "traindf[\"SibSp\"] /= 5\n",
    "traindf[\"Parch\"] /= 6\n",
    "traindf[\"Pclass\"] /= 3"
   ]
  },
  {
   "cell_type": "code",
   "execution_count": 711,
   "metadata": {},
   "outputs": [],
   "source": [
    "traindf = traindf.to_numpy()\n",
    "dataSize, paramSize = traindf.shape\n",
    "paramSize -= 1"
   ]
  },
  {
   "cell_type": "code",
   "execution_count": 712,
   "metadata": {},
   "outputs": [],
   "source": [
    "def encoder(data, col, size):\n",
    "    b = {}\n",
    "    cur = 0\n",
    "    for i in range(size):\n",
    "        if data[i][col] in b:\n",
    "            data[i][col] = b[data[i][col]]\n",
    "        else:\n",
    "            b[data[i][col]] = cur\n",
    "            data[i][col] = b[data[i][col]]\n",
    "            cur += 1\n",
    "    return data\n",
    "\n",
    "def ReLU(Z, grad=False):\n",
    "    if grad:\n",
    "        return Z > 0\n",
    "    return np.maximum(Z, 0)\n",
    "\n",
    "def sigmoid(Z, grad=False):\n",
    "    t = (1 / (1 + np.exp(-Z)))\n",
    "    if grad:\n",
    "        return t * (1- t)\n",
    "    return t\n",
    "\n",
    "def softmax(Z):\n",
    "    A = np.exp(Z)+1 / sum(np.exp(Z)+1)\n",
    "    return A\n",
    "\n",
    "def get_predictions(A2):\n",
    "    A2 = A2[0]\n",
    "    for i in range(A2.shape[0]):\n",
    "        if A2[i] > 0.8:\n",
    "            A2[i] = 1\n",
    "        else:\n",
    "            A2[i] = 0\n",
    "    return A2.reshape(A2.shape[0], 1).T\n",
    "\n",
    "def get_accuracy(predictions, Y):\n",
    "    return np.sum(predictions == Y) / Y.size\n",
    "\n",
    "def get_loss(pred, y):\n",
    "    return sum(pred-y)\n"
   ]
  },
  {
   "cell_type": "code",
   "execution_count": 713,
   "metadata": {},
   "outputs": [],
   "source": [
    "traindf = encoder(traindf, 2, dataSize)\n",
    "traindf = encoder(traindf, 7, dataSize)\n",
    "table = pd.DataFrame(traindf)"
   ]
  },
  {
   "cell_type": "code",
   "execution_count": 714,
   "metadata": {},
   "outputs": [],
   "source": [
    "x = traindf.T[1:]\n",
    "y = traindf.T[0]"
   ]
  },
  {
   "cell_type": "code",
   "execution_count": 715,
   "metadata": {},
   "outputs": [],
   "source": [
    "def init_params(nin):\n",
    "    w1 = np.random.rand(10, nin) \n",
    "    b1 = np.random.rand(10, 1)\n",
    "    w2 = np.random.rand(1, 10)\n",
    "    b2 = np.random.rand(1, 1)\n",
    "    return w1, b1, w2, b2\n",
    "\n",
    "def forward(w1, b1, w2, b2, x):\n",
    "    a1 = np.dot(w1, x) + b1\n",
    "    z1 = ReLU(a1)\n",
    "    a2 = np.dot(w2, z1) + b2\n",
    "    z2 = sigmoid(a2.astype(float))\n",
    "\n",
    "    return a1, z1, a2, z2\n",
    "\n",
    "def backward(w1, b1, w2, b2, a1, z1, a2, z2, x, y):\n",
    "    loss = (z2 - y) * sigmoid(a2.astype(float), grad=True)\n",
    "    dw2 = 1/dataSize * np.dot(loss, z1.T) \n",
    "    db2 = 1/dataSize * np.sum(loss)\n",
    "    da1 = ReLU(a1, grad=True) * np.dot(w2.T, loss)\n",
    "    dw1 = 1/dataSize * np.dot(da1, x.T)\n",
    "    db1 = 1/dataSize * np.sum(da1)\n",
    "\n",
    "    return dw1, db1, dw2, db2\n",
    "\n",
    "def train(epochs, lr, x, y):\n",
    "    w1, b1, w2, b2 = init_params(paramSize)\n",
    "    for epoch in range(epochs+1):\n",
    "        a1, z1, a2, z2 = forward(w1, b1, w2, b2, x)\n",
    "        dw1, db1, dw2, db2 = backward(w1, b1, w2, b2, a1, z1, a2, z2, x, y)\n",
    "        w1 = w1 - dw1 * lr\n",
    "        b1 = b1 - db1 * lr\n",
    "        w2 = w2 - dw2 * lr\n",
    "        b2 = b2 - db2 * lr\n",
    "        if (epoch%50 == 0):\n",
    "            norm = get_predictions(z2)\n",
    "            loss = get_loss(norm, y)\n",
    "            acc = get_accuracy(norm, y)\n",
    "            \n",
    "            print(f\"Epoch: {epoch}   Accuracy: {acc}\")\n",
    "    return w1, b1, w2, b2\n",
    "\n"
   ]
  },
  {
   "cell_type": "code",
   "execution_count": 718,
   "metadata": {},
   "outputs": [
    {
     "name": "stdout",
     "output_type": "stream",
     "text": [
      "Epoch: 0   Accuracy: 0.3838383838383838\n",
      "Epoch: 50   Accuracy: 0.7968574635241302\n",
      "Epoch: 100   Accuracy: 0.8013468013468014\n",
      "Epoch: 150   Accuracy: 0.8047138047138047\n",
      "Epoch: 200   Accuracy: 0.8047138047138047\n",
      "Epoch: 250   Accuracy: 0.8058361391694725\n",
      "Epoch: 300   Accuracy: 0.8069584736251403\n",
      "Epoch: 350   Accuracy: 0.8080808080808081\n",
      "Epoch: 400   Accuracy: 0.8080808080808081\n",
      "Epoch: 450   Accuracy: 0.8103254769921436\n",
      "Epoch: 500   Accuracy: 0.8114478114478114\n",
      "Epoch: 550   Accuracy: 0.8125701459034792\n",
      "Epoch: 600   Accuracy: 0.8159371492704826\n",
      "Epoch: 650   Accuracy: 0.8159371492704826\n",
      "Epoch: 700   Accuracy: 0.8159371492704826\n"
     ]
    },
    {
     "ename": "KeyboardInterrupt",
     "evalue": "",
     "output_type": "error",
     "traceback": [
      "\u001b[1;31m---------------------------------------------------------------------------\u001b[0m",
      "\u001b[1;31mKeyboardInterrupt\u001b[0m                         Traceback (most recent call last)",
      "Cell \u001b[1;32mIn[718], line 1\u001b[0m\n\u001b[1;32m----> 1\u001b[0m w1, b1, w2, b2 \u001b[38;5;241m=\u001b[39m \u001b[43mtrain\u001b[49m\u001b[43m(\u001b[49m\u001b[38;5;241;43m50000\u001b[39;49m\u001b[43m,\u001b[49m\u001b[43m \u001b[49m\u001b[38;5;241;43m10\u001b[39;49m\u001b[43m,\u001b[49m\u001b[43m \u001b[49m\u001b[43mx\u001b[49m\u001b[43m,\u001b[49m\u001b[43m \u001b[49m\u001b[43my\u001b[49m\u001b[43m)\u001b[49m\n",
      "Cell \u001b[1;32mIn[715], line 29\u001b[0m, in \u001b[0;36mtrain\u001b[1;34m(epochs, lr, x, y)\u001b[0m\n\u001b[0;32m     27\u001b[0m w1, b1, w2, b2 \u001b[38;5;241m=\u001b[39m init_params(paramSize)\n\u001b[0;32m     28\u001b[0m \u001b[38;5;28;01mfor\u001b[39;00m epoch \u001b[38;5;129;01min\u001b[39;00m \u001b[38;5;28mrange\u001b[39m(epochs\u001b[38;5;241m+\u001b[39m\u001b[38;5;241m1\u001b[39m):\n\u001b[1;32m---> 29\u001b[0m     a1, z1, a2, z2 \u001b[38;5;241m=\u001b[39m \u001b[43mforward\u001b[49m\u001b[43m(\u001b[49m\u001b[43mw1\u001b[49m\u001b[43m,\u001b[49m\u001b[43m \u001b[49m\u001b[43mb1\u001b[49m\u001b[43m,\u001b[49m\u001b[43m \u001b[49m\u001b[43mw2\u001b[49m\u001b[43m,\u001b[49m\u001b[43m \u001b[49m\u001b[43mb2\u001b[49m\u001b[43m,\u001b[49m\u001b[43m \u001b[49m\u001b[43mx\u001b[49m\u001b[43m)\u001b[49m\n\u001b[0;32m     30\u001b[0m     dw1, db1, dw2, db2 \u001b[38;5;241m=\u001b[39m backward(w1, b1, w2, b2, a1, z1, a2, z2, x, y)\n\u001b[0;32m     31\u001b[0m     w1 \u001b[38;5;241m=\u001b[39m w1 \u001b[38;5;241m-\u001b[39m dw1 \u001b[38;5;241m*\u001b[39m lr\n",
      "Cell \u001b[1;32mIn[715], line 10\u001b[0m, in \u001b[0;36mforward\u001b[1;34m(w1, b1, w2, b2, x)\u001b[0m\n\u001b[0;32m      8\u001b[0m \u001b[38;5;28;01mdef\u001b[39;00m \u001b[38;5;21mforward\u001b[39m(w1, b1, w2, b2, x):\n\u001b[0;32m      9\u001b[0m     a1 \u001b[38;5;241m=\u001b[39m np\u001b[38;5;241m.\u001b[39mdot(w1, x) \u001b[38;5;241m+\u001b[39m b1\n\u001b[1;32m---> 10\u001b[0m     z1 \u001b[38;5;241m=\u001b[39m \u001b[43mReLU\u001b[49m\u001b[43m(\u001b[49m\u001b[43ma1\u001b[49m\u001b[43m)\u001b[49m\n\u001b[0;32m     11\u001b[0m     a2 \u001b[38;5;241m=\u001b[39m np\u001b[38;5;241m.\u001b[39mdot(w2, z1) \u001b[38;5;241m+\u001b[39m b2\n\u001b[0;32m     12\u001b[0m     z2 \u001b[38;5;241m=\u001b[39m sigmoid(a2\u001b[38;5;241m.\u001b[39mastype(\u001b[38;5;28mfloat\u001b[39m))\n",
      "Cell \u001b[1;32mIn[712], line 13\u001b[0m, in \u001b[0;36mReLU\u001b[1;34m(Z, grad)\u001b[0m\n\u001b[0;32m     10\u001b[0m             cur \u001b[38;5;241m+\u001b[39m\u001b[38;5;241m=\u001b[39m \u001b[38;5;241m1\u001b[39m\n\u001b[0;32m     11\u001b[0m     \u001b[38;5;28;01mreturn\u001b[39;00m data\n\u001b[1;32m---> 13\u001b[0m \u001b[38;5;28;01mdef\u001b[39;00m \u001b[38;5;21mReLU\u001b[39m(Z, grad\u001b[38;5;241m=\u001b[39m\u001b[38;5;28;01mFalse\u001b[39;00m):\n\u001b[0;32m     14\u001b[0m     \u001b[38;5;28;01mif\u001b[39;00m grad:\n\u001b[0;32m     15\u001b[0m         \u001b[38;5;28;01mreturn\u001b[39;00m Z \u001b[38;5;241m>\u001b[39m \u001b[38;5;241m0\u001b[39m\n",
      "\u001b[1;31mKeyboardInterrupt\u001b[0m: "
     ]
    }
   ],
   "source": [
    "w1, b1, w2, b2 = train(50000, 10, x, y)"
   ]
  },
  {
   "cell_type": "code",
   "execution_count": null,
   "metadata": {},
   "outputs": [],
   "source": [
    "def over_train(w1, b1, w2, b2, epochs, lr, x, y):\n",
    "    for epoch in range(epochs+1):\n",
    "        a1, z1, a2, z2 = forward(w1, b1, w2, b2, x)\n",
    "        dw1, db1, dw2, db2 = backward(w1, b1, w2, b2, a1, z1, a2, z2, x, y)\n",
    "        w1 = w1 - dw1 * lr\n",
    "        b1 = b1 - db1 * lr\n",
    "        w2 = w2 - dw2 * lr\n",
    "        b2 = b2 - db2 * lr\n",
    "        if (epoch%50 == 0):\n",
    "            norm = get_predictions(z2)\n",
    "            loss = get_loss(norm, y)\n",
    "            acc = get_accuracy(norm, y)\n",
    "            \n",
    "            \n",
    "            print(f\"Epoch: {epoch}   Accuracy: {acc}\")\n",
    "    return w1, b1, w2, b2"
   ]
  },
  {
   "cell_type": "code",
   "execution_count": null,
   "metadata": {},
   "outputs": [
    {
     "name": "stdout",
     "output_type": "stream",
     "text": [
      "Epoch: 0   Accuracy: 0.6734006734006734\n",
      "Epoch: 50   Accuracy: 0.8047138047138047\n",
      "Epoch: 100   Accuracy: 0.7991021324354658\n",
      "Epoch: 150   Accuracy: 0.8002244668911336\n",
      "Epoch: 200   Accuracy: 0.8013468013468014\n",
      "Epoch: 250   Accuracy: 0.8013468013468014\n",
      "Epoch: 300   Accuracy: 0.8013468013468014\n",
      "Epoch: 350   Accuracy: 0.8024691358024691\n",
      "Epoch: 400   Accuracy: 0.8035914702581369\n",
      "Epoch: 450   Accuracy: 0.8047138047138047\n",
      "Epoch: 500   Accuracy: 0.8069584736251403\n",
      "Epoch: 550   Accuracy: 0.8080808080808081\n",
      "Epoch: 600   Accuracy: 0.8092031425364759\n",
      "Epoch: 650   Accuracy: 0.8103254769921436\n",
      "Epoch: 700   Accuracy: 0.8080808080808081\n",
      "Epoch: 750   Accuracy: 0.8080808080808081\n",
      "Epoch: 800   Accuracy: 0.8080808080808081\n",
      "Epoch: 850   Accuracy: 0.8080808080808081\n",
      "Epoch: 900   Accuracy: 0.8047138047138047\n",
      "Epoch: 950   Accuracy: 0.8069584736251403\n",
      "Epoch: 1000   Accuracy: 0.8069584736251403\n",
      "Epoch: 1050   Accuracy: 0.8058361391694725\n",
      "Epoch: 1100   Accuracy: 0.8069584736251403\n",
      "Epoch: 1150   Accuracy: 0.8092031425364759\n",
      "Epoch: 1200   Accuracy: 0.8092031425364759\n",
      "Epoch: 1250   Accuracy: 0.8114478114478114\n",
      "Epoch: 1300   Accuracy: 0.8114478114478114\n",
      "Epoch: 1350   Accuracy: 0.8092031425364759\n",
      "Epoch: 1400   Accuracy: 0.8125701459034792\n",
      "Epoch: 1450   Accuracy: 0.8103254769921436\n",
      "Epoch: 1500   Accuracy: 0.8103254769921436\n",
      "Epoch: 1550   Accuracy: 0.8114478114478114\n",
      "Epoch: 1600   Accuracy: 0.8114478114478114\n",
      "Epoch: 1650   Accuracy: 0.8114478114478114\n",
      "Epoch: 1700   Accuracy: 0.8103254769921436\n",
      "Epoch: 1750   Accuracy: 0.8114478114478114\n",
      "Epoch: 1800   Accuracy: 0.8103254769921436\n",
      "Epoch: 1850   Accuracy: 0.8092031425364759\n",
      "Epoch: 1900   Accuracy: 0.8114478114478114\n",
      "Epoch: 1950   Accuracy: 0.8092031425364759\n",
      "Epoch: 2000   Accuracy: 0.8114478114478114\n",
      "Epoch: 2050   Accuracy: 0.8092031425364759\n",
      "Epoch: 2100   Accuracy: 0.8080808080808081\n",
      "Epoch: 2150   Accuracy: 0.8114478114478114\n",
      "Epoch: 2200   Accuracy: 0.8092031425364759\n",
      "Epoch: 2250   Accuracy: 0.8092031425364759\n",
      "Epoch: 2300   Accuracy: 0.8103254769921436\n",
      "Epoch: 2350   Accuracy: 0.8114478114478114\n",
      "Epoch: 2400   Accuracy: 0.8103254769921436\n",
      "Epoch: 2450   Accuracy: 0.8069584736251403\n",
      "Epoch: 2500   Accuracy: 0.8092031425364759\n",
      "Epoch: 2550   Accuracy: 0.8092031425364759\n",
      "Epoch: 2600   Accuracy: 0.8114478114478114\n",
      "Epoch: 2650   Accuracy: 0.8103254769921436\n",
      "Epoch: 2700   Accuracy: 0.8103254769921436\n",
      "Epoch: 2750   Accuracy: 0.8080808080808081\n",
      "Epoch: 2800   Accuracy: 0.8092031425364759\n",
      "Epoch: 2850   Accuracy: 0.8114478114478114\n",
      "Epoch: 2900   Accuracy: 0.8114478114478114\n",
      "Epoch: 2950   Accuracy: 0.8092031425364759\n",
      "Epoch: 3000   Accuracy: 0.8092031425364759\n",
      "Epoch: 3050   Accuracy: 0.8159371492704826\n",
      "Epoch: 3100   Accuracy: 0.8114478114478114\n",
      "Epoch: 3150   Accuracy: 0.8092031425364759\n",
      "Epoch: 3200   Accuracy: 0.8114478114478114\n",
      "Epoch: 3250   Accuracy: 0.8103254769921436\n",
      "Epoch: 3300   Accuracy: 0.8114478114478114\n",
      "Epoch: 3350   Accuracy: 0.8114478114478114\n",
      "Epoch: 3400   Accuracy: 0.8092031425364759\n",
      "Epoch: 3450   Accuracy: 0.8114478114478114\n",
      "Epoch: 3500   Accuracy: 0.8103254769921436\n",
      "Epoch: 3550   Accuracy: 0.8114478114478114\n",
      "Epoch: 3600   Accuracy: 0.8114478114478114\n",
      "Epoch: 3650   Accuracy: 0.8080808080808081\n",
      "Epoch: 3700   Accuracy: 0.8103254769921436\n",
      "Epoch: 3750   Accuracy: 0.8125701459034792\n",
      "Epoch: 3800   Accuracy: 0.8092031425364759\n",
      "Epoch: 3850   Accuracy: 0.8114478114478114\n",
      "Epoch: 3900   Accuracy: 0.8103254769921436\n",
      "Epoch: 3950   Accuracy: 0.8114478114478114\n",
      "Epoch: 4000   Accuracy: 0.8114478114478114\n",
      "Epoch: 4050   Accuracy: 0.8103254769921436\n",
      "Epoch: 4100   Accuracy: 0.8103254769921436\n",
      "Epoch: 4150   Accuracy: 0.8114478114478114\n",
      "Epoch: 4200   Accuracy: 0.8114478114478114\n",
      "Epoch: 4250   Accuracy: 0.8103254769921436\n",
      "Epoch: 4300   Accuracy: 0.8125701459034792\n",
      "Epoch: 4350   Accuracy: 0.8103254769921436\n",
      "Epoch: 4400   Accuracy: 0.8125701459034792\n",
      "Epoch: 4450   Accuracy: 0.8114478114478114\n",
      "Epoch: 4500   Accuracy: 0.8092031425364759\n",
      "Epoch: 4550   Accuracy: 0.813692480359147\n",
      "Epoch: 4600   Accuracy: 0.8114478114478114\n",
      "Epoch: 4650   Accuracy: 0.8103254769921436\n",
      "Epoch: 4700   Accuracy: 0.8103254769921436\n",
      "Epoch: 4750   Accuracy: 0.8114478114478114\n",
      "Epoch: 4800   Accuracy: 0.8114478114478114\n",
      "Epoch: 4850   Accuracy: 0.8114478114478114\n",
      "Epoch: 4900   Accuracy: 0.8103254769921436\n",
      "Epoch: 4950   Accuracy: 0.8103254769921436\n",
      "Epoch: 5000   Accuracy: 0.8114478114478114\n"
     ]
    }
   ],
   "source": [
    "w1, b1, w2, b2 = over_train(w1, b1, w2, b2, 5000, 10, x, y)"
   ]
  },
  {
   "cell_type": "code",
   "execution_count": null,
   "metadata": {},
   "outputs": [],
   "source": [
    "test = pd.read_csv(\"test.csv\")"
   ]
  },
  {
   "cell_type": "code",
   "execution_count": null,
   "metadata": {},
   "outputs": [],
   "source": [
    "test = test.drop([\"Ticket\", \"PassengerId\", \"Name\", \"Cabin\"], axis=1)\n",
    "test = test.fillna(1)"
   ]
  },
  {
   "cell_type": "code",
   "execution_count": null,
   "metadata": {},
   "outputs": [],
   "source": [
    "\n",
    "test[\"Fare\"] /= 512.329\n",
    "test[\"Age\"] /= 80\n",
    "test[\"SibSp\"] /= 5\n",
    "test[\"Parch\"] /= 6\n",
    "test[\"Pclass\"] /= 3\n",
    "test = test.to_numpy()\n",
    "dataSize, paramSize = test.shape\n",
    "test = encoder(test, 1, dataSize)\n",
    "test = encoder(test, 6, dataSize)\n"
   ]
  },
  {
   "cell_type": "code",
   "execution_count": null,
   "metadata": {},
   "outputs": [],
   "source": [
    "a1, z1, a2, z2 = forward(w1, b1, w2, b2, test.T)\n",
    "test_pred = get_predictions(z2)"
   ]
  },
  {
   "cell_type": "code",
   "execution_count": null,
   "metadata": {},
   "outputs": [],
   "source": [
    "predictions = pd.DataFrame(test_pred.T)\n",
    "predictions = pd.DataFrame({'PassengerId': range(892, len(predictions) + 892), 'Survived': predictions[0].astype(int)})\n",
    "predictions.to_csv(\"submission.csv\", index=False)\n"
   ]
  },
  {
   "cell_type": "code",
   "execution_count": null,
   "metadata": {},
   "outputs": [],
   "source": []
  },
  {
   "cell_type": "code",
   "execution_count": null,
   "metadata": {},
   "outputs": [],
   "source": []
  }
 ],
 "metadata": {
  "kernelspec": {
   "display_name": "ml",
   "language": "python",
   "name": "python3"
  },
  "language_info": {
   "codemirror_mode": {
    "name": "ipython",
    "version": 3
   },
   "file_extension": ".py",
   "mimetype": "text/x-python",
   "name": "python",
   "nbconvert_exporter": "python",
   "pygments_lexer": "ipython3",
   "version": "3.12.4"
  }
 },
 "nbformat": 4,
 "nbformat_minor": 2
}
